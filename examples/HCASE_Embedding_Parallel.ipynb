{
 "cells": [
  {
   "cell_type": "code",
   "execution_count": null,
   "id": "96baf527",
   "metadata": {},
   "outputs": [],
   "source": [
    "# HCASE Embedding\n",
    "#\n",
    "# Author: Gergely Zahoranszky-Kohalmi, PhD\n",
    "#\n",
    "# Email: gergely.zahoranszky-kohalmi@nih.gov\n",
    "#\n",
    "# Organization: National Center for Advancing Translational Sciences (NCATS/NIH)\n",
    "#\n"
   ]
  },
  {
   "cell_type": "code",
   "execution_count": null,
   "id": "6763e98a",
   "metadata": {},
   "outputs": [],
   "source": [
    "import hcase\n",
    "import pandas as pd\n",
    "from rdkit.rdBase import BlockLogs\n",
    "\n",
    "import os\n",
    "\n",
    "import pdb"
   ]
  },
  {
   "cell_type": "code",
   "execution_count": null,
   "id": "5aa07498",
   "metadata": {},
   "outputs": [],
   "source": [
    "# Config section\n",
    "\n",
    "\n",
    "\n",
    "fname_reference_scaffolds = '../data/scaffolds_chembl_24.tab'\n",
    "fname_structures = '../data/STD_drugbank_approved_structures_v5.txt'\n",
    "\n",
    "fname_out_space = '../data/hc_space.tab'\n",
    "fname_out_embedding = '../data/drugs_emb_hcase_chembl.tab'\n",
    "\n",
    "n_dim = 2\n",
    "\n",
    "\n",
    "\n",
    "use_precomputed_reference_spaces = False\n",
    "\n",
    "do_downsampling = False\n",
    "rnd_seed = 55555\n",
    "sample_size = 2000\n",
    "\n",
    "NR_CORES = 10"
   ]
  },
  {
   "cell_type": "code",
   "execution_count": null,
   "id": "d6852178-0a08-4e58-adc0-fb1e36cc84a2",
   "metadata": {},
   "outputs": [],
   "source": [
    "# Determining number of CPUs to use based on config, i.e. if -1, use all cores, otherwise use the specified nr of CPUs\n",
    "\n",
    "\n",
    "if NR_CORES == -1:\n",
    "    NR_CORES = os.cpu_count()  # Use all available cores\n",
    "    NR_JOBS = -1    # this is for AI/ML\n",
    "\n",
    "    print (f'[*] Number of cores for fingerprint generation: {NR_CORES}, Number of cores for AI/ML: ALL (max: {NR_CORES})')\n",
    "    \n",
    "else:\n",
    "    \n",
    "    NR_JOBS = NR_CORES    # this is for AI/ML\n",
    "    print (f'[*] Number of cores for fingerprint generation: {NR_CORES}, Number of cores for AI/ML: {NR_JOBS}')\n"
   ]
  },
  {
   "cell_type": "code",
   "execution_count": null,
   "id": "b0f4f5c3",
   "metadata": {},
   "outputs": [],
   "source": [
    "# Import datasets\n",
    "\n",
    "df_ref_scaffolds = pd.read_csv (fname_reference_scaffolds, sep = '\\t')\n",
    "df_structures = pd.read_csv (fname_structures, sep = '\\t')\n",
    "\n",
    "print (df_ref_scaffolds.shape)\n",
    "print (df_structures.shape)"
   ]
  },
  {
   "cell_type": "code",
   "execution_count": null,
   "id": "77925358",
   "metadata": {},
   "outputs": [],
   "source": [
    "# Clean-up datasets\n",
    "\n",
    "df_structures = df_structures.rename (columns = {'Structure': 'structure', 'ID': 'id'})"
   ]
  },
  {
   "cell_type": "code",
   "execution_count": null,
   "id": "02e032bb",
   "metadata": {},
   "outputs": [],
   "source": [
    "# Reduce datasets for workflow development (optional)\n",
    "\n",
    "if do_downsampling:\n",
    "\n",
    "    df_ref_scaffolds = df_ref_scaffolds.sample (n = sample_size, random_state = rnd_seed)\n",
    "    df_structures = df_structures.sample (n = sample_size, random_state = rnd_seed)\n",
    "\n"
   ]
  },
  {
   "cell_type": "code",
   "execution_count": null,
   "id": "1b0b90cf-4ab6-41ab-b980-b9adf554deb1",
   "metadata": {},
   "outputs": [],
   "source": [
    "df_structures"
   ]
  },
  {
   "cell_type": "code",
   "execution_count": null,
   "id": "f1c857ce",
   "metadata": {
    "scrolled": true
   },
   "outputs": [],
   "source": [
    "# Create ChEMBL Scaffold space\n",
    "with BlockLogs():\n",
    "    if not use_precomputed_reference_spaces:\n",
    "        df_hcase_space = hcase.train (df_ref_scaffolds, NR_CORES)\n",
    "        \n",
    "        df_hcase_space.to_csv (fname_out_space, sep = '\\t', index = False)\n",
    "    \n",
    "    else:\n",
    "        \n",
    "        df_hcase_space = pd.read_csv (fname_out_space, sep = '\\t')\n",
    "\n"
   ]
  },
  {
   "cell_type": "code",
   "execution_count": 10,
   "id": "c5304096",
   "metadata": {},
   "outputs": [],
   "source": [
    "\n",
    "# Embed structures into HCASE space\n",
    "with BlockLogs():\n",
    "    %time df_embedded = hcase.embed (df_hcase_space, df_structures, n_dim, NR_CORES)"
   ]
  },
  {
   "cell_type": "code",
   "execution_count": null,
   "id": "e274fbfb",
   "metadata": {},
   "outputs": [],
   "source": [
    "df_embedded.to_csv (fname_out_embedding, sep = '\\t')"
   ]
  },
  {
   "cell_type": "code",
   "execution_count": null,
   "id": "6959583a",
   "metadata": {},
   "outputs": [],
   "source": [
    "df_embedded"
   ]
  },
  {
   "cell_type": "code",
   "execution_count": null,
   "id": "378f5b31-1d69-4cbf-81f0-61957f9c5f2d",
   "metadata": {},
   "outputs": [],
   "source": []
  },
  {
   "cell_type": "code",
   "execution_count": null,
   "id": "2951d39f-284c-4c5e-9f49-67c7b879e983",
   "metadata": {},
   "outputs": [],
   "source": [
    "#df_embedded.plot.scatter(x='Dim_1', y='Dim_2')"
   ]
  },
  {
   "cell_type": "code",
   "execution_count": null,
   "id": "55f34eaf-c503-416b-bc0e-a710df3a2a92",
   "metadata": {},
   "outputs": [],
   "source": [
    "# References\n",
    "\n",
    "# ChatGPT 4.0 Palantir Instance\n",
    "# ChatGPT 4o www.openai.com"
   ]
  }
 ],
 "metadata": {
  "kernelspec": {
   "display_name": "Python 3 (ipykernel)",
   "language": "python",
   "name": "python3"
  },
  "language_info": {
   "codemirror_mode": {
    "name": "ipython",
    "version": 3
   },
   "file_extension": ".py",
   "mimetype": "text/x-python",
   "name": "python",
   "nbconvert_exporter": "python",
   "pygments_lexer": "ipython3",
   "version": "3.11.8"
  }
 },
 "nbformat": 4,
 "nbformat_minor": 5
}
