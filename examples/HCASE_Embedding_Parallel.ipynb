{
 "cells": [
  {
   "cell_type": "code",
   "execution_count": 11,
   "id": "96baf527",
   "metadata": {},
   "outputs": [],
   "source": [
    "# HCASE Embedding\n",
    "#\n",
    "# Author: Gergely Zahoranszky-Kohalmi, PhD\n",
    "#\n",
    "# Email: gergely.zahoranszky-kohalmi@nih.gov\n",
    "#\n",
    "# Organization: National Center for Advancing Translational Sciences (NCATS/NIH)\n",
    "#"
   ]
  },
  {
   "cell_type": "code",
   "execution_count": 12,
   "id": "6763e98a",
   "metadata": {},
   "outputs": [],
   "source": [
    "import hcase\n",
    "import pandas as pd\n",
    "from rdkit.rdBase import BlockLogs\n",
    "import cupy as cp\n",
    "import multiprocessing"
   ]
  },
  {
   "cell_type": "code",
   "execution_count": null,
   "id": "5aa07498",
   "metadata": {},
   "outputs": [],
   "source": [
    "# Config section\n",
    "fname_reference_scaffolds = '../data/scaffolds_chembl_24.tab'\n",
    "fname_structures = '../data/STD_drugbank_approved_structures_v5.txt'\n",
    "fname_out_space = '../data/hc_space.tab'\n",
    "fname_out_embedding = '../data/drugs_emb_hcase_chembl.tab'\n",
    "\n",
    "def get_available_cores():\n",
    "    \"\"\"\n",
    "    Returns the total number of CPU cores and a smart default (total cores - 1).\n",
    "    \"\"\"\n",
    "    total_cores = multiprocessing.cpu_count()\n",
    "    smart_default = max(1, total_cores - 1)  # Ensure at least 1 core is used\n",
    "    return total_cores, smart_default\n",
    "\n",
    "n_dim = 2\n",
    "use_precomputed_reference_spaces = False\n",
    "do_downsampling = False\n",
    "rnd_seed = 55555\n",
    "sample_size = 2000\n",
    "row_based = False # this computes closest_scaffold via pandarallel and also numpy not as fast as batching on GPU\n",
    "use_cupy = cp.cuda.is_available()\n",
    "batch_size = 500 # if too high out of memory error will occur\n",
    "total_cores, smart_default = get_available_cores()\n",
    "hcase.initialize_pandarallel(n_cores=smart_default)\n"
   ]
  },
  {
   "cell_type": "code",
   "execution_count": null,
   "id": "b38b3a9a",
   "metadata": {},
   "outputs": [],
   "source": []
  },
  {
   "cell_type": "code",
   "execution_count": 14,
   "id": "b0f4f5c3",
   "metadata": {},
   "outputs": [],
   "source": [
    "# Import datasets\n",
    "\n",
    "df_ref_scaffolds = pd.read_csv (fname_reference_scaffolds, sep = '\\t')\n",
    "df_structures = pd.read_csv (fname_structures, sep = '\\t')\n"
   ]
  },
  {
   "cell_type": "code",
   "execution_count": 15,
   "id": "77925358",
   "metadata": {},
   "outputs": [],
   "source": [
    "# Clean-up datasets\n",
    "\n",
    "df_structures = df_structures.rename (columns = {'Structure': 'structure', 'ID': 'id'})"
   ]
  },
  {
   "cell_type": "code",
   "execution_count": 16,
   "id": "02e032bb",
   "metadata": {},
   "outputs": [],
   "source": [
    "# Reduce datasets for workflow development (optional)\n",
    "\n",
    "if do_downsampling:\n",
    "\n",
    "    df_ref_scaffolds = df_ref_scaffolds.sample (n = sample_size, random_state = rnd_seed)\n",
    "    df_structures = df_structures.sample (n = sample_size, random_state = rnd_seed)\n",
    "\n"
   ]
  },
  {
   "cell_type": "code",
   "execution_count": null,
   "id": "1b0b90cf-4ab6-41ab-b980-b9adf554deb1",
   "metadata": {},
   "outputs": [],
   "source": [
    "df_structures"
   ]
  },
  {
   "cell_type": "code",
   "execution_count": null,
   "id": "f1c857ce",
   "metadata": {
    "scrolled": true
   },
   "outputs": [],
   "source": [
    "# Create ChEMBL Scaffold space\n",
    "with BlockLogs():\n",
    "    if not use_precomputed_reference_spaces:\n",
    "        df_hcase_space = hcase.train (df_ref_scaffolds)\n",
    "        \n",
    "        df_hcase_space.to_csv (fname_out_space, sep = '\\t', index = False)\n",
    "    \n",
    "    else:\n",
    "        \n",
    "        df_hcase_space = pd.read_csv (fname_out_space, sep = '\\t')\n",
    "\n"
   ]
  },
  {
   "cell_type": "code",
   "execution_count": null,
   "id": "ad252027",
   "metadata": {},
   "outputs": [],
   "source": [
    "# Embed structures into HCASE space\n",
    "with BlockLogs():\n",
    "    df_embedded = hcase.embed (df_hcase_space, df_structures, n_dim, row_based = row_based, use_cupy = use_cupy, batch_size = batch_size)\n",
    "    df_embedded.to_csv (fname_out_embedding, sep = '\\t')"
   ]
  },
  {
   "cell_type": "code",
   "execution_count": 20,
   "id": "55f34eaf-c503-416b-bc0e-a710df3a2a92",
   "metadata": {},
   "outputs": [],
   "source": [
    "# References\n",
    "\n",
    "# ChatGPT 4.0 Palantir Instance\n",
    "# ChatGPT 4o www.openai.com"
   ]
  }
 ],
 "metadata": {
  "kernelspec": {
   "display_name": "cupy-env",
   "language": "python",
   "name": "python3"
  },
  "language_info": {
   "codemirror_mode": {
    "name": "ipython",
    "version": 3
   },
   "file_extension": ".py",
   "mimetype": "text/x-python",
   "name": "python",
   "nbconvert_exporter": "python",
   "pygments_lexer": "ipython3",
   "version": "3.11.11"
  }
 },
 "nbformat": 4,
 "nbformat_minor": 5
}
